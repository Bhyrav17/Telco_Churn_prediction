{
 "cells": [
  {
   "cell_type": "markdown",
   "id": "dd93d9a8",
   "metadata": {},
   "source": [
    "# Problem Background and Motivation\n",
    "\n",
    "### Brief Intro on Telecommunication \n",
    " Telecommunication sector is one of the major growing sectors in term of revenue and technology. An **interesting** part of this sector is still the plain old telephone calls is the biggest revenue generator.  But due to advancement in technology, Telecom is growing less about voice and increasingly about video, text, and data which inturn directly increasing the revenue\n",
    " \n",
    ">* The major contributor for the revenue in this sector is the **CUSTOMER**. \n",
    ">* Some major telcom players are AT&T, T-mobile and verizon\n",
    ">* Customer is *GOD*\n",
    ">* More Information in the link [Research](https://www.investopedia.com/ask/answers/070815/what-telecommunications-sector.asp)\n",
    "\n",
    "\n",
    "<img src=\"http://www.allaccesstelecom.com/wp-content/uploads/2019/12/Telecom-Networks-small-848x300.jpg\" alt=\"Telecom Networks\" />\n",
    "  \n",
    "<img src=\"https://www.boldbi.com/wp-content/uploads/2021/02/General-Management@2x-1.png\" alt=\"Dashboard for revenue in Telecom Industry\" />\n",
    "\n",
    "### Motivation for taking the case\n",
    "\n",
    ">* It is important for such big industry players to know if their customers are loyal or not (customer churn)\n",
    ">* Customer retention is less costlier than that of acquiring new customers\n",
    ">* keeping the churn rate at a minimum in simple terms means more profit or revenue\n",
    ">* Project Reference for a telco churn problem [REFERENCE](https://towardsdatascience.com/end-to-end-machine-learning-project-telco-customer-churn-90744a8df97d)\n",
    "\n",
    "<img src=\"https://skillsireupload.s3.amazonaws.com/upload/photos/2020/05/5twqQmRLzwjfNafls5WA_21_34ff7747f0fbaa5f140904a2c44ffe5a_image.jpg\" />\n",
    "\n",
    "\n",
    ">**Questions To Think About:**\n",
    ">- What if the model gives a false positive and the company/stakeholders gives compensation to that individual? Who should be held responsible?\n",
    ">- Who is gonna consume our model?  Who are the stakeholders? Who do we need to convince that our work is good/useful?\n",
    ">- What are the risks? How accurate or precise will our results be?\n",
    ">- How are we checking the error rate? Is there a error handling mechanism for it?\n",
    ">- What if our eventual model makes mistakes (it will) - are some mistakes more costly than others?\n",
    ">- Could we be held liable for those mistakes?"
   ]
  },
  {
   "cell_type": "markdown",
   "id": "40567d76",
   "metadata": {},
   "source": [
    "# Import Package Dependencies\n",
    "  Import the required packages needed for the model.\n",
    "  \n",
    "  ### Pandas:\n",
    "  >* Pandas library is used mainly for data manipulation and analysis\n",
    "  >* pandas is aliased as pd for ease of usage\n",
    "  >* https://pandas.pydata.org/\n",
    "  \n",
    "  ### SKLEARN:\n",
    "  >* Famous machine learning library with various classification, regression and clustering algorithms\n",
    "  >* We only import the required functions for the model by using \" from **library** import **function** \"\n",
    "  >* https://scikit-learn.org/stable/\n",
    "  \n",
    "  ### PICKLE:\n",
    "  >* This module implements binary protocols for serializing and de-serializing a Python object structure.\n",
    "  >* More accessible and easier use for deployment\n",
    "  >* https://docs.python.org/3/library/pickle.html#module-pickle"
   ]
  },
  {
   "cell_type": "code",
   "execution_count": 4,
   "id": "42f4e006",
   "metadata": {},
   "outputs": [],
   "source": [
    "import pandas as pd\n",
    "from sklearn.linear_model import LogisticRegression\n",
    "from sklearn.metrics import accuracy_score\n",
    "import pickle"
   ]
  },
  {
   "cell_type": "markdown",
   "id": "bb7073d4",
   "metadata": {},
   "source": [
    "# Get the data ( Input )\n",
    "\n",
    ">* Using pandas inbuilt input function read_csv is called on the csv file (the dataset) and stored in a variable called df(data frame)\n",
    ">* Default output of read_csv is a dataframe \n",
    "\n",
    ">**Questions to think about**\n",
    ">- can we read non-csv files?  How do we do that? - We can use the pandas library function -> read_table,read_clipboard and read_excel for other types of files\n",
    ">- does the read_csv() function have other arguments besides the file name?\n",
    ">- how much data can a Pandas dataframe handle without bogging down my system? -> Pandas is optimized to work with data on the memory, so if your dataset is bigger than the memory(RAM)- then it will affect the system performance \n",
    ">- What are the default parameters for the read_csv function?\n",
    "\n",
    "\n",
    ">**Future Reference:**\n",
    ">- In the future, I might be working with several/multiple data sets and might need to concat/merge the table.\n",
    ">- Inbuilt pandas function is there which supports the above statement ->https://pandas.pydata.org/docs/user_guide/merging.html#"
   ]
  },
  {
   "cell_type": "code",
   "execution_count": 5,
   "id": "74114ed9",
   "metadata": {
    "scrolled": true
   },
   "outputs": [],
   "source": [
    "#Read Data\n",
    "url = 'https://github.com/Bhyrav17/Telco_Churn_prediction/blob/main/Data/telco_customer_churn.csv?raw=true'\n",
    "df = pd.read_csv(url, index_col=0)"
   ]
  },
  {
   "cell_type": "markdown",
   "id": "bb568615",
   "metadata": {},
   "source": [
    "# X and Y values ( Data Prep Stage)\n",
    "\n",
    ">* iloc is a functionality of pandas which is used to select a specific row or column from the data set.\n",
    ">* X -> Contains all the rows and column 1 to length of the dataframe(6) - Last one is excluded\n",
    ">* Y -> Contains all the rows and target variable\n",
    ">* https://pandas.pydata.org/docs/reference/api/pandas.DataFrame.iloc.html\n",
    "\n",
    "## Note to Myself \n",
    "DrG gave us **'clean'** data.  In reality, our data won't be clean and will need to be processed in multiple steps.  Let's create a simple checklist so we don't forget the many things we should look into with future data sets.\n",
    "\n",
    "- [x] **Data Types & Definitions** - Go through the given data and get to know the data and its definitions\n",
    "       For Example: In telecom churn data, there are 5 predictor variables{senior_citizen->type:bool,\n",
    "       months_as_customer -  >type:number ) and etc. churn(target variable) defines if the customer has churned or not.\n",
    "- [x] **Explore our data** - Evaluate (plot) distributions and get to know the central tendencies and distributions. ( mean, standard deviation and variances)\n",
    "- [ ] **Outlier Detection** - We can get to know initially by commonplots like scatterplot or bar graphs. But there is several algorithms for finding the outlier like Elliptic envelope or Isolation Forest Algorithm (Go through these once and read up on it)\n",
    "- [ ] **Data cleansing and validation** - Remove duplicate data, Missing data should either be removed or estimated properly.\n",
    "- [ ] **Data structuring** - Sometimes the data maybe in a form that is not suitable for the ML model, so we need to perform transformations to get it to a structured way\n"
   ]
  },
  {
   "cell_type": "code",
   "execution_count": 6,
   "id": "ae4b68a7",
   "metadata": {},
   "outputs": [],
   "source": [
    "X = df.iloc[:,1:len(df.columns)]\n",
    "y = df.iloc[:,0]"
   ]
  },
  {
   "cell_type": "markdown",
   "id": "1510f8fd",
   "metadata": {},
   "source": [
    "# Building the model \n",
    "\n",
    "What is the nature of our prediction problem?  In this case, we are predicting a categorical target variable, binary to be exact( Either YES OR NO- Is the customer going to churn? ). We are doing Classification and there are a lot of alternative modeling frameworks for us to choose from like  Before we get to modeling and model selection.\n",
    "\n",
    "**Final Check:** - Is our data REALLY prepared for modeling?  Ok then!let's go!\n",
    "\n",
    ">* Logistic Regression is a function from the sklearn package and is used for linear continuous variables\n",
    ">* By default - lbfgs alogrithm is considered. It is particularly used for small datasets. Max_iter variable gives the Maximum number of iterations taken for the solver to converge.\n",
    ">* https://scikit-learn.org/stable/modules/generated/sklearn.linear_model.LogisticRegression.html#sklearn.linear_model.LogisticRegression\n",
    "\n",
    ">*  The fit function fit the linear model where X is the training data and Y is the target variable\n",
    ">* https://scikit-learn.org/stable/modules/generated/sklearn.linear_model.LinearRegression.html#sklearn.linear_model.LinearRegression.fit\n",
    "\n",
    "\n",
    "\n",
    "**Questions to think about(For Me):**\n",
    "\n",
    "- What are the key indicators of performance(KPI)? Is it enough to show the stakeholders that the model is good?\n",
    "- Is it possible for us to adjust our models so they perform better (however that is defined?)\n",
    "- How can we choose which solver to go for in classifications? lbfgs,newton-cg,liblinear, sag or saga?\n",
    "- How do we determine which is the \"best\" model?\n",
    "- What about model interpretability?  Is that important for our current use-case?  In other words, do we care whether or not we can measure and interpret relationships between predictors and our target...or do we ONLY care about the prediction?\n",
    "- How would I convince others that our model is a good one? With Accuracy_Score, Zscore, Precision or what?\n",
    "\n",
    "\n",
    "(Note: I have used some of the same questions as in the Template by Dr.G because I also have questions about the same )\n"
   ]
  },
  {
   "cell_type": "code",
   "execution_count": 7,
   "id": "65784dc2",
   "metadata": {},
   "outputs": [
    {
     "data": {
      "text/html": [
       "<style>#sk-container-id-1 {color: black;background-color: white;}#sk-container-id-1 pre{padding: 0;}#sk-container-id-1 div.sk-toggleable {background-color: white;}#sk-container-id-1 label.sk-toggleable__label {cursor: pointer;display: block;width: 100%;margin-bottom: 0;padding: 0.3em;box-sizing: border-box;text-align: center;}#sk-container-id-1 label.sk-toggleable__label-arrow:before {content: \"▸\";float: left;margin-right: 0.25em;color: #696969;}#sk-container-id-1 label.sk-toggleable__label-arrow:hover:before {color: black;}#sk-container-id-1 div.sk-estimator:hover label.sk-toggleable__label-arrow:before {color: black;}#sk-container-id-1 div.sk-toggleable__content {max-height: 0;max-width: 0;overflow: hidden;text-align: left;background-color: #f0f8ff;}#sk-container-id-1 div.sk-toggleable__content pre {margin: 0.2em;color: black;border-radius: 0.25em;background-color: #f0f8ff;}#sk-container-id-1 input.sk-toggleable__control:checked~div.sk-toggleable__content {max-height: 200px;max-width: 100%;overflow: auto;}#sk-container-id-1 input.sk-toggleable__control:checked~label.sk-toggleable__label-arrow:before {content: \"▾\";}#sk-container-id-1 div.sk-estimator input.sk-toggleable__control:checked~label.sk-toggleable__label {background-color: #d4ebff;}#sk-container-id-1 div.sk-label input.sk-toggleable__control:checked~label.sk-toggleable__label {background-color: #d4ebff;}#sk-container-id-1 input.sk-hidden--visually {border: 0;clip: rect(1px 1px 1px 1px);clip: rect(1px, 1px, 1px, 1px);height: 1px;margin: -1px;overflow: hidden;padding: 0;position: absolute;width: 1px;}#sk-container-id-1 div.sk-estimator {font-family: monospace;background-color: #f0f8ff;border: 1px dotted black;border-radius: 0.25em;box-sizing: border-box;margin-bottom: 0.5em;}#sk-container-id-1 div.sk-estimator:hover {background-color: #d4ebff;}#sk-container-id-1 div.sk-parallel-item::after {content: \"\";width: 100%;border-bottom: 1px solid gray;flex-grow: 1;}#sk-container-id-1 div.sk-label:hover label.sk-toggleable__label {background-color: #d4ebff;}#sk-container-id-1 div.sk-serial::before {content: \"\";position: absolute;border-left: 1px solid gray;box-sizing: border-box;top: 0;bottom: 0;left: 50%;z-index: 0;}#sk-container-id-1 div.sk-serial {display: flex;flex-direction: column;align-items: center;background-color: white;padding-right: 0.2em;padding-left: 0.2em;position: relative;}#sk-container-id-1 div.sk-item {position: relative;z-index: 1;}#sk-container-id-1 div.sk-parallel {display: flex;align-items: stretch;justify-content: center;background-color: white;position: relative;}#sk-container-id-1 div.sk-item::before, #sk-container-id-1 div.sk-parallel-item::before {content: \"\";position: absolute;border-left: 1px solid gray;box-sizing: border-box;top: 0;bottom: 0;left: 50%;z-index: -1;}#sk-container-id-1 div.sk-parallel-item {display: flex;flex-direction: column;z-index: 1;position: relative;background-color: white;}#sk-container-id-1 div.sk-parallel-item:first-child::after {align-self: flex-end;width: 50%;}#sk-container-id-1 div.sk-parallel-item:last-child::after {align-self: flex-start;width: 50%;}#sk-container-id-1 div.sk-parallel-item:only-child::after {width: 0;}#sk-container-id-1 div.sk-dashed-wrapped {border: 1px dashed gray;margin: 0 0.4em 0.5em 0.4em;box-sizing: border-box;padding-bottom: 0.4em;background-color: white;}#sk-container-id-1 div.sk-label label {font-family: monospace;font-weight: bold;display: inline-block;line-height: 1.2em;}#sk-container-id-1 div.sk-label-container {text-align: center;}#sk-container-id-1 div.sk-container {/* jupyter's `normalize.less` sets `[hidden] { display: none; }` but bootstrap.min.css set `[hidden] { display: none !important; }` so we also need the `!important` here to be able to override the default hidden behavior on the sphinx rendered scikit-learn.org. See: https://github.com/scikit-learn/scikit-learn/issues/21755 */display: inline-block !important;position: relative;}#sk-container-id-1 div.sk-text-repr-fallback {display: none;}</style><div id=\"sk-container-id-1\" class=\"sk-top-container\"><div class=\"sk-text-repr-fallback\"><pre>LogisticRegression(max_iter=800)</pre><b>In a Jupyter environment, please rerun this cell to show the HTML representation or trust the notebook. <br />On GitHub, the HTML representation is unable to render, please try loading this page with nbviewer.org.</b></div><div class=\"sk-container\" hidden><div class=\"sk-item\"><div class=\"sk-estimator sk-toggleable\"><input class=\"sk-toggleable__control sk-hidden--visually\" id=\"sk-estimator-id-1\" type=\"checkbox\" checked><label for=\"sk-estimator-id-1\" class=\"sk-toggleable__label sk-toggleable__label-arrow\">LogisticRegression</label><div class=\"sk-toggleable__content\"><pre>LogisticRegression(max_iter=800)</pre></div></div></div></div></div>"
      ],
      "text/plain": [
       "LogisticRegression(max_iter=800)"
      ]
     },
     "execution_count": 7,
     "metadata": {},
     "output_type": "execute_result"
    }
   ],
   "source": [
    "model = LogisticRegression(solver='lbfgs',max_iter=800)\n",
    "model.fit(X,y)"
   ]
  },
  {
   "cell_type": "markdown",
   "id": "7f44f11a",
   "metadata": {},
   "source": [
    "# Prediction \n",
    "\n",
    ">* The predict function predicts the class labels for the variable passed to it i.e. X is the data matrix for which we want to get the predictions\n",
    ">* https://scikit-learn.org/stable/modules/generated/sklearn.linear_model.LogisticRegression.html#sklearn.linear_model.LogisticRegression.predict\n"
   ]
  },
  {
   "cell_type": "code",
   "execution_count": 8,
   "id": "7d2632f4",
   "metadata": {},
   "outputs": [],
   "source": [
    "predictions = model.predict(X)"
   ]
  },
  {
   "cell_type": "markdown",
   "id": "e4eda50f",
   "metadata": {},
   "source": [
    "# Accuracy Score\n",
    "\n",
    ">* As the name suggests the accuracy_Score computes accuracy of the predicted values and the true values\n",
    ">* https://scikit-learn.org/stable/modules/model_evaluation.html#accuracy-score\n",
    "\n",
    "**Questions to think about:**\n",
    "\n",
    "- How is the accuracy score calculated?\n",
    "- Is it reliable to give the perfect values?"
   ]
  },
  {
   "cell_type": "code",
   "execution_count": 9,
   "id": "472e9b6b",
   "metadata": {},
   "outputs": [
    {
     "name": "stdout",
     "output_type": "stream",
     "text": [
      "0.8378531875621185\n"
     ]
    }
   ],
   "source": [
    "print(accuracy_score(y,predictions))"
   ]
  },
  {
   "cell_type": "markdown",
   "id": "195781b2",
   "metadata": {},
   "source": [
    "# Pickling\n",
    "\n",
    ">* Pickling is done, so as to save the python object file as itself and can retrieve it back whenever we want to in its original form\n",
    ">* We are creating a new object called pickle_out. This will contain a new file called classifier in write mode. We are opening this file to write to it in binary(wb)\n",
    ">* https://sites.pitt.edu/~naraehan/python3/pickling.html\n",
    "\n",
    ">* The dump command is a method for saving the data out to the designated pickle file (pickle_out)\n",
    ">* The close method will close the opened file\n",
    "\n",
    "\n",
    "# Deployment time for the '🖖ChurnPredictor SP17000X'\n",
    "\n",
    ">**Questions of Interest(For ME):**\n",
    ">- Is WebApp deployment the best and easy way to deploy a ML model? What are the other ways we can deploy an ML model?\n",
    ">- Where can we host our deployed webapp?  Does it cost anything to deploy it in a AWS or any cloud service?\n",
    ">- Can we use authentication to make sure our our app is secure and no data breach is occurred?\n",
    ">- Streamlit commands and docs: https://docs.streamlit.io/\n",
    ">- Streamlit templates: see https://streamlit.io/gallery\n"
   ]
  },
  {
   "cell_type": "code",
   "execution_count": 10,
   "id": "154ffba2",
   "metadata": {},
   "outputs": [],
   "source": [
    "pickle_out = open('classifier', mode='wb')\n",
    "pickle.dump(model, pickle_out)\n",
    "pickle_out.close()"
   ]
  },
  {
   "cell_type": "markdown",
   "id": "daff0cb8",
   "metadata": {},
   "source": [
    "### Extra Notes\n",
    "\n",
    ">* **The below code (app.py) contains unpickling , Prediction and the inputs to our churn predictor model**"
   ]
  },
  {
   "cell_type": "code",
   "execution_count": 11,
   "id": "ff22aebe",
   "metadata": {},
   "outputs": [
    {
     "name": "stdout",
     "output_type": "stream",
     "text": [
      "Overwriting app.py\n"
     ]
    }
   ],
   "source": [
    "%%writefile app.py\n",
    "\n",
    "import pickle\n",
    "import streamlit as st\n",
    "\n",
    "pickle_in = open('classifier', 'rb')   #Unpickling\n",
    "classifier = pickle.load(pickle_in)\n",
    "\n",
    "st.set_page_config(page_title='ChurnPredictor', page_icon=\"🖖\")    #The set_page_config method lets us define the webpage title name and icon\n",
    "\n",
    "@st.cache()\n",
    "\n",
    "\n",
    "# Define the function which will make the prediction using data\n",
    "# inputs from users\n",
    "def prediction(senior_citizen, has_dependents,\n",
    "               months_as_customer, has_internet_service, has_month_to_month_contract):\n",
    "    \n",
    "    # Make predictions\n",
    "    prediction = classifier.predict(\n",
    "        [[senior_citizen, has_dependents,months_as_customer, has_internet_service, has_month_to_month_contract]])\n",
    "    \n",
    "    if prediction == 0:\n",
    "        pred = 'Everything Looks good. The Customer is Loyal!'\n",
    "    else:\n",
    "        pred = 'Oh No! The customer is gonna CHURN! **Better do something about it**'\n",
    "    return pred\n",
    "\n",
    "# This is the main function in which we define our webpage\n",
    "def main():\n",
    "    \n",
    "    st.title(\"The Churn Predictor Model\")   # Title of the model displayed in the webpage\n",
    "    \n",
    "    #Give a little bit information of the Model\n",
    "    st.info('The Model takes in the below predictor variables for a telecom company and predicts if a customer is going to churn or not!', icon=\"ℹ️\")\n",
    "    \n",
    "    # Create input fields\n",
    "    senior_citizen = st.number_input(\"Are you a senior citizen? ('1' for Yes and '0' for NO)\",\n",
    "                                  min_value=0,\n",
    "                                  max_value=1,\n",
    "                                  value=0,\n",
    "                                  step=1,\n",
    "                                 )\n",
    "    has_dependents = st.number_input(\"Do you have any dependents? ('1' for Yes and '0' for NO) \",\n",
    "                              min_value=0,\n",
    "                              max_value=1,\n",
    "                              value=0,\n",
    "                              step=1\n",
    "                             )\n",
    "\n",
    "    months_as_customer = st.number_input(\"Enter the months the customer has stayed with the company(0-72)\",\n",
    "                              min_value=0,\n",
    "                              max_value=72,\n",
    "                              value=10,\n",
    "                              step=3\n",
    "                             )\n",
    "    has_internet_service = st.number_input(\"Did the customer have a internet service?('1' for Yes and '0' for NO)\",\n",
    "                          min_value=0,\n",
    "                          max_value=1,\n",
    "                          value=0,\n",
    "                          step=1\n",
    "                         )\n",
    "    has_month_to_month_contract = st.number_input(\"Does the customer have month to month contract?('1' for Yes and '0' for NO)\",\n",
    "                          min_value=0,\n",
    "                          max_value=1,\n",
    "                          value=0,\n",
    "                          step=1\n",
    "                         )\n",
    "\n",
    "    result = \"\"\n",
    "    \n",
    "    # When 'Predict' is clicked, make the prediction and store it\n",
    "    if st.button(\"Predict\"):\n",
    "        result = prediction(senior_citizen, has_dependents,months_as_customer, has_internet_service, has_month_to_month_contract)\n",
    "        st.success(result)\n",
    "        #If the predictions are true, celebrate that the model is properly working, else spit out a churn warning\n",
    "        if(result == 'Everything Looks good. The Customer is Loyal!'):\n",
    "            st.balloons()   \n",
    "        else:\n",
    "            st.image('https://www.smartkarrot.com/wp-content/uploads/2020/09/Customer-churn-reduction.png',caption=\"Customer CHURN ALERT\",width=150)\n",
    "        \n",
    "if __name__=='__main__':\n",
    "    main()"
   ]
  },
  {
   "cell_type": "code",
   "execution_count": 12,
   "id": "5522e88b",
   "metadata": {},
   "outputs": [
    {
     "name": "stdout",
     "output_type": "stream",
     "text": [
      "^C\n"
     ]
    }
   ],
   "source": [
    "!streamlit run app.py"
   ]
  }
 ],
 "metadata": {
  "kernelspec": {
   "display_name": "Python 3 (ipykernel)",
   "language": "python",
   "name": "python3"
  },
  "language_info": {
   "codemirror_mode": {
    "name": "ipython",
    "version": 3
   },
   "file_extension": ".py",
   "mimetype": "text/x-python",
   "name": "python",
   "nbconvert_exporter": "python",
   "pygments_lexer": "ipython3",
   "version": "3.9.12"
  }
 },
 "nbformat": 4,
 "nbformat_minor": 5
}
